{
 "cells": [
  {
   "cell_type": "markdown",
   "source": [
    "# **Assignment 3 - WordNet**\n",
    "**Justin Hardy | JEH180008**\n",
    "**Dr. Mazidi | CS 4395.001**\n",
    "<br/>\n",
    "REWORDED DESCRIPTION OF ASSIGNMENT GOES HERE."
   ],
   "metadata": {
    "collapsed": false
   }
  },
  {
   "cell_type": "markdown",
   "source": [
    "## 1. What is WordNet?\n",
    "WRITTEN EXPLANATION GOES HERE."
   ],
   "metadata": {
    "collapsed": false
   }
  },
  {
   "cell_type": "markdown",
   "source": [
    "### 1a. Exploring Synsets (Noun)\n",
    "BRIEF DESCRIPTION OF SYNSETS GOES HERE."
   ],
   "metadata": {
    "collapsed": false
   }
  },
  {
   "cell_type": "code",
   "execution_count": null,
   "outputs": [],
   "source": [],
   "metadata": {
    "collapsed": false
   }
  },
  {
   "cell_type": "markdown",
   "source": [
    "### 1b. Finding '-nyms' of Synsets\n",
    "EXPLANATION OF WHAT '-NYMS' ARE GOES HERE."
   ],
   "metadata": {
    "collapsed": false
   }
  },
  {
   "cell_type": "code",
   "execution_count": null,
   "outputs": [],
   "source": [],
   "metadata": {
    "collapsed": false
   }
  },
  {
   "cell_type": "markdown",
   "source": [
    "### 1c. Exploring Synsets (Verb)\n",
    "BRIEF EXPLANATION ABOUT WHAT WE'RE DOING DIFFERENTLY GOES HERE."
   ],
   "metadata": {
    "collapsed": false
   }
  },
  {
   "cell_type": "code",
   "execution_count": null,
   "outputs": [],
   "source": [],
   "metadata": {
    "collapsed": false
   }
  },
  {
   "cell_type": "markdown",
   "source": [
    "### 1d. Determining Various Forms of the Word\n",
    "EXPLANATION OF WORD FORMS GOES HERE."
   ],
   "metadata": {
    "collapsed": false
   }
  },
  {
   "cell_type": "code",
   "execution_count": null,
   "outputs": [],
   "source": [],
   "metadata": {
    "collapsed": false
   }
  },
  {
   "cell_type": "markdown",
   "source": [
    "### 1e. Determining Word Similarity\n",
    "EXPLANATION OF HOW WE CAN DETERMINE SIMILARITY OF WORDS THRU THEIR SYNSETS USING ALGORITHMS (FROM LECTURE) GOES HERE."
   ],
   "metadata": {
    "collapsed": false
   }
  },
  {
   "cell_type": "code",
   "execution_count": null,
   "outputs": [],
   "source": [],
   "metadata": {
    "collapsed": false
   }
  },
  {
   "cell_type": "markdown",
   "source": [
    "## 2. What is SentiWordNet?\n",
    "WRITTEN EXPLANATION GOES HERE."
   ],
   "metadata": {
    "collapsed": false
   }
  },
  {
   "cell_type": "markdown",
   "source": [
    "## 3. What is a Collocation?\n",
    "WRITTEN EXPLANATION GOES HERE."
   ],
   "metadata": {
    "collapsed": false
   }
  },
  {
   "cell_type": "markdown",
   "source": [
    "### 3a. Exploring Collocations\n",
    "BRIEF DESCRIPTION OF NLTK COLLOCATION IDENTIFICATION GOES HERE."
   ],
   "metadata": {
    "collapsed": false
   }
  },
  {
   "cell_type": "code",
   "execution_count": null,
   "outputs": [],
   "source": [],
   "metadata": {
    "collapsed": false
   }
  },
  {
   "cell_type": "markdown",
   "source": [
    "COMMENTARY ON THE RESULTS GOES HERE."
   ],
   "metadata": {
    "collapsed": false
   }
  }
 ],
 "metadata": {
  "kernelspec": {
   "display_name": "Python 3",
   "language": "python",
   "name": "python3"
  },
  "language_info": {
   "codemirror_mode": {
    "name": "ipython",
    "version": 2
   },
   "file_extension": ".py",
   "mimetype": "text/x-python",
   "name": "python",
   "nbconvert_exporter": "python",
   "pygments_lexer": "ipython2",
   "version": "2.7.6"
  }
 },
 "nbformat": 4,
 "nbformat_minor": 0
}
